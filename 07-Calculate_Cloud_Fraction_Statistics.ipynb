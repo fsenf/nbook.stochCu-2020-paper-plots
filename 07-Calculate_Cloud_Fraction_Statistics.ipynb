{
 "cells": [
  {
   "cell_type": "markdown",
   "metadata": {},
   "source": [
    "# Calculate Cloud Fraction Statistics"
   ]
  },
  {
   "cell_type": "markdown",
   "metadata": {},
   "source": [
    "Here, we calculate average area fraction per cloud type and save the result in a file."
   ]
  },
  {
   "cell_type": "code",
   "execution_count": 1,
   "metadata": {},
   "outputs": [],
   "source": [
    "%matplotlib inline\n",
    "\n",
    "import numpy as np\n",
    "import glob\n",
    "\n",
    "import pylab as pl\n",
    "import xarray as xr\n",
    "import datetime"
   ]
  },
  {
   "cell_type": "code",
   "execution_count": 2,
   "metadata": {},
   "outputs": [],
   "source": [
    "import nawdex_analysis.analysis.averaging\n",
    "import nawdex_analysis.io.tools\n",
    "\n",
    "\n",
    "from tropy.standard_config import local_data_path\n",
    "from tropy.l15_msevi.msevi import MSevi\n",
    "\n",
    "import tropy.analysis_tools.grid_and_interpolation as gi"
   ]
  },
  {
   "cell_type": "markdown",
   "metadata": {},
   "source": [
    "## Make a Function for Averaging"
   ]
  },
  {
   "cell_type": "code",
   "execution_count": 3,
   "metadata": {},
   "outputs": [],
   "source": [
    "\n",
    "def calculate_ave_afrac( dset, itime, factor = -1, **kwargs ):\n",
    "       \n",
    "    '''\n",
    "    Calculate Cloud-radiative effect (CRE) for different cloud types.\n",
    "\n",
    "    \n",
    "    Parameters\n",
    "    ----------\n",
    "    dset : xarray Dataset\n",
    "        set containing CT and mask & area information\n",
    "\n",
    "    itime : int\n",
    "       time index of data fields ('swf_net' and 'lwf') in radname\n",
    "\n",
    "    factor : float\n",
    "       factor used to convert direction conversion (outward vs. inward)\n",
    "\n",
    "    filepart : str, optional, default = '-scaled'\n",
    "       part in the file that gives information about scaling of clear-sky fields\n",
    "       either '-scaled' or '-not_scaled'\n",
    "\n",
    "\n",
    "    Returns\n",
    "    --------\n",
    "    outset : xarray Dataset\n",
    "       dataset containing average longwave, short-wave CRE and area fractions\n",
    "       depending on cloud type\n",
    "    '''\n",
    "\n",
    "    \n",
    "    # prepare analysis array\n",
    "    m = dset['mask'].data\n",
    "\n",
    "    ct_field = dset['CT'].isel( time = itime ).data\n",
    "    a_field = dset['a'].data\n",
    "    \n",
    "    time = dset['time'].isel( time = itime )\n",
    "\n",
    "    a = a_field[m]\n",
    "    ct = ct_field[m]\n",
    "\n",
    "    \n",
    "    \n",
    "    # calculate area-weighted CRE average\n",
    "    ctbins =  np.arange(0,22)\n",
    "    afrac = nawdex_analysis.analysis.averaging.area_fractions( a, ct, ctbins ) * 100.\n",
    "    \n",
    "    # rewrite data into xarray\n",
    "    ct_map = [2, 6, 8, 10, 12, 14, 15, 16, 17, 18, 19]\n",
    "\n",
    "    ct_labels = [ 'clear_ocean',  'very low', 'low', 'middle', 'high opaque', \n",
    "                                 'very high opaque', 'semi. thin', 'semi. meanly thick', \n",
    "                                 'semi. thick', 'semi. above', 'fractional'\n",
    "                             ] \n",
    "    \n",
    "    outset = xr.Dataset({'ct' : ('ct', ct_labels, {}),\n",
    "                     'time' : ('time', [time.data,], {}),\n",
    "                     'afrac' : (('time','ct'), np.array( [afrac,] )[:,ct_map], \n",
    "                                  {'units' : '%', 'longname':'relative area fractions per cloud type'})})\n",
    "\n",
    "    return outset\n"
   ]
  },
  {
   "cell_type": "markdown",
   "metadata": {},
   "source": [
    "## CT Data Input"
   ]
  },
  {
   "cell_type": "markdown",
   "metadata": {},
   "source": [
    "### Make a Fileist"
   ]
  },
  {
   "cell_type": "code",
   "execution_count": 4,
   "metadata": {},
   "outputs": [],
   "source": [
    "#old path\n",
    "fdir = '%s/icon/hdcp2_atlantic_stochconv_main_experiments' % local_data_path"
   ]
  },
  {
   "cell_type": "code",
   "execution_count": 5,
   "metadata": {},
   "outputs": [],
   "source": [
    "# new path\n",
    "fdir = '%s/icon/stoch_exp_v2019-10-18' % local_data_path\n",
    "fdir = '%s/icon/stoch_exp_v2020-02-13' % local_data_path\n"
   ]
  },
  {
   "cell_type": "code",
   "execution_count": 6,
   "metadata": {},
   "outputs": [
    {
     "name": "stdout",
     "output_type": "stream",
     "text": [
      "5\n",
      "(0, '/vols/fs1/store/senf/data/icon/stoch_exp_v2020-02-13/nwcsaf_msevi-hdcp2_atlantic-20131220.nc')\n",
      "(1, '/vols/fs1/store/senf/data/icon/stoch_exp_v2020-02-13/nwcsaf_synsat-hdcp2_atlantic_stochconv_noconvprec_notundepth.nc')\n",
      "(2, '/vols/fs1/store/senf/data/icon/stoch_exp_v2020-02-13/nwcsaf_synsat-hdcp2_atlantic_stochconv_vervel_-00.nc')\n",
      "(3, '/vols/fs1/store/senf/data/icon/stoch_exp_v2020-02-13/nwcsaf_synsat-hdcp2_atlantic_detconv.nc')\n",
      "(4, '/vols/fs1/store/senf/data/icon/stoch_exp_v2020-02-13/nwcsaf_synsat-hdcp2_atlantic_noconv.nc')\n"
     ]
    }
   ],
   "source": [
    "flist = glob.glob( '%s/nwcsaf*-hdcp2_atlantic*[!0]??.nc' % fdir)\n",
    "print( len(flist ))\n",
    "\n",
    "for i, fname in enumerate( flist ):\n",
    "    print(i, fname)"
   ]
  },
  {
   "cell_type": "code",
   "execution_count": 7,
   "metadata": {},
   "outputs": [],
   "source": [
    "#i = 0\n",
    "#i = 1\n",
    "i = 2\n",
    "#i = 3\n",
    "# i = 4\n",
    "#i = 5\n",
    "#i = 6"
   ]
  },
  {
   "cell_type": "code",
   "execution_count": 8,
   "metadata": {},
   "outputs": [
    {
     "data": {
      "text/plain": [
       "'/vols/fs1/store/senf/data/icon/stoch_exp_v2020-02-13/nwcsaf_synsat-hdcp2_atlantic_stochconv_vervel_-00.nc'"
      ]
     },
     "execution_count": 8,
     "metadata": {},
     "output_type": "execute_result"
    }
   ],
   "source": [
    "fname = flist[i]\n",
    "fname"
   ]
  },
  {
   "cell_type": "markdown",
   "metadata": {},
   "source": [
    "### Open CT File"
   ]
  },
  {
   "cell_type": "code",
   "execution_count": 9,
   "metadata": {},
   "outputs": [],
   "source": [
    "dset = xr.open_dataset( fname)"
   ]
  },
  {
   "cell_type": "markdown",
   "metadata": {},
   "source": [
    "### Convert Time"
   ]
  },
  {
   "cell_type": "code",
   "execution_count": 10,
   "metadata": {},
   "outputs": [],
   "source": [
    "time = nawdex_analysis.io.tools.convert_timevec( dset.time.data )"
   ]
  },
  {
   "cell_type": "code",
   "execution_count": 11,
   "metadata": {},
   "outputs": [],
   "source": [
    "dset['time'] = time"
   ]
  },
  {
   "cell_type": "code",
   "execution_count": 12,
   "metadata": {},
   "outputs": [
    {
     "data": {
      "text/plain": [
       "<xarray.Dataset>\n",
       "Dimensions:        (cols: 2050, ndim: 2, rows: 900, time: 23)\n",
       "Coordinates:\n",
       "    lat            (rows, cols) float64 ...\n",
       "    lon            (rows, cols) float64 ...\n",
       "  * time           (time) datetime64[ns] 2013-12-20T02:00:00 ... 2013-12-21\n",
       "Dimensions without coordinates: cols, ndim, rows\n",
       "Data variables:\n",
       "    msevi_region   (ndim, ndim) int64 ...\n",
       "    nwcsaf_region  (ndim, ndim) int64 ...\n",
       "    CTTH_HEIGHT    (time, rows, cols) float32 ...\n",
       "    CMa            (time, rows, cols) float32 ...\n",
       "    CT             (time, rows, cols) float32 ...\n",
       "Attributes:\n",
       "    description:  Based on synthetic Meteosat-SEVIRI images from the Prime Se...\n",
       "    title:        NWCSAF cloud products\n",
       "    institution:  Leibniz Institute for Tropospheric Research\n",
       "    author:       Fabian Senf (senf@tropos.de)"
      ]
     },
     "execution_count": 12,
     "metadata": {},
     "output_type": "execute_result"
    }
   ],
   "source": [
    "dset"
   ]
  },
  {
   "cell_type": "markdown",
   "metadata": {},
   "source": [
    "### Get Mask"
   ]
  },
  {
   "cell_type": "code",
   "execution_count": 13,
   "metadata": {},
   "outputs": [],
   "source": [
    "maskname = '%s/landseamask.nc' % fdir\n",
    "lsm = xr.open_dataset( maskname )"
   ]
  },
  {
   "cell_type": "code",
   "execution_count": 14,
   "metadata": {},
   "outputs": [
    {
     "data": {
      "text/plain": [
       "<xarray.Dataset>\n",
       "Dimensions:  (col: 2050, row: 900)\n",
       "Coordinates:\n",
       "    lon      (row, col) float32 ...\n",
       "    lat      (row, col) float32 ...\n",
       "Dimensions without coordinates: col, row\n",
       "Data variables:\n",
       "    lsm      (row, col) bool ..."
      ]
     },
     "execution_count": 14,
     "metadata": {},
     "output_type": "execute_result"
    }
   ],
   "source": [
    "lsm"
   ]
  },
  {
   "cell_type": "code",
   "execution_count": 15,
   "metadata": {},
   "outputs": [],
   "source": [
    "dset['mask'] = lsm['lsm']"
   ]
  },
  {
   "cell_type": "markdown",
   "metadata": {},
   "source": [
    "## Get Gridbox Areas"
   ]
  },
  {
   "cell_type": "code",
   "execution_count": 16,
   "metadata": {},
   "outputs": [],
   "source": [
    "x, y = gi.ll2xyc( dset['lon'].data, dset['lat'].data )"
   ]
  },
  {
   "cell_type": "code",
   "execution_count": 17,
   "metadata": {},
   "outputs": [
    {
     "name": "stderr",
     "output_type": "stream",
     "text": [
      "/vols/fs1/store/senf/.conda/python27mod/lib/python2.7/site-packages/tropy/analysis_tools/grid_and_interpolation.py:990: VisibleDeprecationWarning: `rank` is deprecated; use the `ndim` attribute or function instead. To find the rank of a matrix see `numpy.linalg.matrix_rank`.\n",
      "  if not np.rank(lon) == 2 and not np.rank(lat) == 2:\n"
     ]
    }
   ],
   "source": [
    "a = gi.simple_pixel_area(x, y, xy = True)"
   ]
  },
  {
   "cell_type": "code",
   "execution_count": 18,
   "metadata": {},
   "outputs": [],
   "source": [
    "dset['a'] = xr.DataArray( a, dims = ('row', 'col'))"
   ]
  },
  {
   "cell_type": "code",
   "execution_count": 19,
   "metadata": {},
   "outputs": [],
   "source": [
    "ntimes = dset.dims['time']"
   ]
  },
  {
   "cell_type": "markdown",
   "metadata": {},
   "source": [
    "## Run Calculations"
   ]
  },
  {
   "cell_type": "code",
   "execution_count": 20,
   "metadata": {},
   "outputs": [],
   "source": [
    "afrac = []\n",
    "for i in range( ntimes ):\n",
    "    afrac +=[ calculate_ave_afrac( dset, i ), ]\n",
    "afrac = xr.merge(afrac)\n",
    "    "
   ]
  },
  {
   "cell_type": "code",
   "execution_count": 21,
   "metadata": {},
   "outputs": [],
   "source": [
    "\n",
    "oname = fname.replace('nwcsaf', 'afrac-stats')\n",
    "afrac.to_netcdf( oname )\n"
   ]
  }
 ],
 "metadata": {
  "kernelspec": {
   "display_name": "Python 2",
   "language": "python",
   "name": "python2"
  },
  "language_info": {
   "codemirror_mode": {
    "name": "ipython",
    "version": 2
   },
   "file_extension": ".py",
   "mimetype": "text/x-python",
   "name": "python",
   "nbconvert_exporter": "python",
   "pygments_lexer": "ipython2",
   "version": "2.7.15"
  }
 },
 "nbformat": 4,
 "nbformat_minor": 2
}
