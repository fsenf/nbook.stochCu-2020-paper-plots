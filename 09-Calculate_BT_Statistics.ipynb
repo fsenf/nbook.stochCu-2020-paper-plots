{
 "cells": [
  {
   "cell_type": "markdown",
   "metadata": {},
   "source": [
    "# Calculate BT Statistics"
   ]
  },
  {
   "cell_type": "markdown",
   "metadata": {},
   "source": [
    "Here, we calculate BT histograms for selected regions and times"
   ]
  },
  {
   "cell_type": "code",
   "execution_count": 1,
   "metadata": {},
   "outputs": [],
   "source": [
    "%matplotlib inline\n",
    "\n",
    "import numpy as np\n",
    "import glob\n",
    "\n",
    "import pylab as pl\n",
    "import xarray as xr\n",
    "import datetime"
   ]
  },
  {
   "cell_type": "code",
   "execution_count": 2,
   "metadata": {},
   "outputs": [],
   "source": [
    "import nawdex_analysis.analysis.averaging\n",
    "import nawdex_analysis.io.tools\n",
    "\n",
    "\n",
    "from tropy.standard_config import local_data_path\n",
    "from tropy.l15_msevi.msevi import MSevi\n",
    "\n",
    "import tropy.analysis_tools.grid_and_interpolation as gi"
   ]
  },
  {
   "cell_type": "markdown",
   "metadata": {},
   "source": [
    "## Make a Function for Averaging"
   ]
  },
  {
   "cell_type": "code",
   "execution_count": 3,
   "metadata": {},
   "outputs": [],
   "source": [
    "\n",
    "def calculate_bthist( dset, itime, btbins = None, \n",
    "                     **kwargs ):\n",
    "       \n",
    "    '''\n",
    "    Calculate Cloud-radiative effect (CRE) for different cloud types.\n",
    "\n",
    "    \n",
    "    Parameters\n",
    "    ----------\n",
    "    dset : xarray Dataset\n",
    "        set containing CT and mask & area information\n",
    "\n",
    "    itime : int\n",
    "       time index of data fields ('swf_net' and 'lwf') in radname\n",
    "\n",
    "    factor : float\n",
    "       factor used to convert direction conversion (outward vs. inward)\n",
    "\n",
    "    filepart : str, optional, default = '-scaled'\n",
    "       part in the file that gives information about scaling of clear-sky fields\n",
    "       either '-scaled' or '-not_scaled'\n",
    "\n",
    "\n",
    "    Returns\n",
    "    --------\n",
    "    outset : xarray Dataset\n",
    "       dataset containing average longwave, short-wave CRE and area fractions\n",
    "       depending on cloud type\n",
    "    '''\n",
    "\n",
    "    \n",
    "    # prepare analysis array\n",
    "    m = dset['mask'].data\n",
    "\n",
    "    bt_field = dset['bt108'].isel( time = itime ).data\n",
    "    time = dset['time'].isel( time = itime )\n",
    "\n",
    "    bt = bt_field[m]\n",
    "\n",
    "    \n",
    "    \n",
    "    # calculate area-weighted CRE average\n",
    "    if btbins is None:\n",
    "        btbins =  np.linspace(270, 310, 40)\n",
    "        \n",
    "\n",
    "    h, xe = np.histogram(bt, btbins)\n",
    "    \n",
    "    bin_mids = gi.lmean( xe )\n",
    "    \n",
    "    outset = xr.Dataset({\n",
    "                    'bin_edges' : ('bin_edges', xe, {'longname' : 'bt108 bin edges', 'units':'K'}),\n",
    "                    'bin_mids'  : ('bin_mids',  bin_mids, {'longname' : 'bt108 bin mid points', \n",
    "                                                           'description' : 'arithmetic mean', 'units':'K'}),\n",
    "                    'time' : ('time', [time.data,], {}),\n",
    "                    'counts' : (('time','bin_mids'), np.array( [h,] ), \n",
    "                                  {'units' : '', 'longname':'absolute counts of bt108'})})\n",
    "\n",
    "    return outset\n"
   ]
  },
  {
   "cell_type": "markdown",
   "metadata": {},
   "source": [
    "## BT Data Input"
   ]
  },
  {
   "cell_type": "markdown",
   "metadata": {},
   "source": [
    "### Make a Fileist"
   ]
  },
  {
   "cell_type": "code",
   "execution_count": 29,
   "metadata": {},
   "outputs": [],
   "source": [
    "# version = 'v2019-10-18'\n",
    "version = 'v2020-02-13'\n"
   ]
  },
  {
   "cell_type": "code",
   "execution_count": 30,
   "metadata": {},
   "outputs": [],
   "source": [
    "# old path\n",
    "fdir = '%s/icon/hdcp2_atlantic_stochconv_main_experiments' % local_data_path"
   ]
  },
  {
   "cell_type": "code",
   "execution_count": 31,
   "metadata": {},
   "outputs": [],
   "source": [
    "# new path\n",
    "fdir = '%s/icon/stoch_exp_%s' % ( local_data_path, version )"
   ]
  },
  {
   "cell_type": "code",
   "execution_count": 32,
   "metadata": {},
   "outputs": [
    {
     "name": "stdout",
     "output_type": "stream",
     "text": [
      "5\n",
      "['/vols/fs1/store/senf/data/icon/stoch_exp_v2020-02-13/synsat-hdcp2_atlantic_stochconv_noconvprec_notundepth.nc', '/vols/fs1/store/senf/data/icon/stoch_exp_v2020-02-13/synsat-hdcp2_atlantic_detconv.nc', '/vols/fs1/store/senf/data/icon/stoch_exp_v2020-02-13/synsat-hdcp2_atlantic_stochconv_vervel_-00.nc', '/vols/fs1/store/senf/data/icon/stoch_exp_v2020-02-13/msevi-hdcp2_atlantic-20131220.nc', '/vols/fs1/store/senf/data/icon/stoch_exp_v2020-02-13/synsat-hdcp2_atlantic_noconv.nc']\n"
     ]
    }
   ],
   "source": [
    "flist = glob.glob( '%s/[ms]*-hdcp2_atlantic*[!0]??.nc' % fdir)\n",
    "print( len(flist ))\n",
    "print(flist)"
   ]
  },
  {
   "cell_type": "code",
   "execution_count": 33,
   "metadata": {},
   "outputs": [],
   "source": [
    "i = 0\n",
    "#i = 1\n",
    "#i = 2\n",
    "#i = 3\n",
    "#i = 4\n",
    "#i = 5\n",
    "#i = 6"
   ]
  },
  {
   "cell_type": "code",
   "execution_count": 34,
   "metadata": {},
   "outputs": [
    {
     "data": {
      "text/plain": [
       "'/vols/fs1/store/senf/data/icon/stoch_exp_v2020-02-13/synsat-hdcp2_atlantic_stochconv_noconvprec_notundepth.nc'"
      ]
     },
     "execution_count": 34,
     "metadata": {},
     "output_type": "execute_result"
    }
   ],
   "source": [
    "fname = flist[i]\n",
    "fname"
   ]
  },
  {
   "cell_type": "markdown",
   "metadata": {},
   "source": [
    "### Get Mask"
   ]
  },
  {
   "cell_type": "code",
   "execution_count": 35,
   "metadata": {},
   "outputs": [],
   "source": [
    "def get_mask( lat_low = None, lat_upp = None ):\n",
    "    \n",
    "    maskname = '%s/landseamask.nc' % fdir\n",
    "    lsm = xr.open_dataset( maskname )\n",
    "    \n",
    "    if lat_low is not None:\n",
    "        lsm['lsm'].data[ lsm.lat < lat_low ] = 0\n",
    "\n",
    "    if lat_upp is not None:\n",
    "        lsm['lsm'].data[ lsm.lat > lat_upp ] = 0\n",
    "        \n",
    "    return lsm"
   ]
  },
  {
   "cell_type": "code",
   "execution_count": 36,
   "metadata": {},
   "outputs": [
    {
     "data": {
      "text/plain": [
       "<matplotlib.image.AxesImage at 0x7fb6da4f8f10>"
      ]
     },
     "execution_count": 36,
     "metadata": {},
     "output_type": "execute_result"
    },
    {
     "data": {
      "image/png": "[encoded data removed]",
      "text/plain": [
       "<Figure size 432x288 with 1 Axes>"
      ]
     },
     "metadata": {
      "needs_background": "light"
     },
     "output_type": "display_data"
    }
   ],
   "source": [
    "lsm = get_mask(lat_low = 10)\n",
    "pl.imshow( lsm['lsm'])"
   ]
  },
  {
   "cell_type": "code",
   "execution_count": 37,
   "metadata": {},
   "outputs": [
    {
     "data": {
      "text/plain": [
       "<matplotlib.image.AxesImage at 0x7fb6da406450>"
      ]
     },
     "execution_count": 37,
     "metadata": {},
     "output_type": "execute_result"
    },
    {
     "data": {
      "image/png": "[encoded data removed]",
      "text/plain": [
       "<Figure size 432x288 with 1 Axes>"
      ]
     },
     "metadata": {
      "needs_background": "light"
     },
     "output_type": "display_data"
    }
   ],
   "source": [
    "lsm = get_mask(lat_upp = -1)\n",
    "pl.imshow( lsm['lsm'])"
   ]
  },
  {
   "cell_type": "code",
   "execution_count": 38,
   "metadata": {},
   "outputs": [
    {
     "data": {
      "text/plain": [
       "<xarray.DataArray 'lat' (quantile: 3)>\n",
       "array([-1.888158,  4.335196, 10.645817])\n",
       "Coordinates:\n",
       "  * quantile  (quantile) float64 0.25 0.5 0.75"
      ]
     },
     "execution_count": 38,
     "metadata": {},
     "output_type": "execute_result"
    }
   ],
   "source": [
    "lsm.lat.mean('col').quantile([0.25, 0.5, 0.75])\n",
    "#"
   ]
  },
  {
   "cell_type": "markdown",
   "metadata": {},
   "source": [
    "### Open File"
   ]
  },
  {
   "cell_type": "code",
   "execution_count": 39,
   "metadata": {},
   "outputs": [],
   "source": [
    "def open_btfile( fname, **kwargs ):\n",
    "    \n",
    "    dset = xr.open_dataset( fname)\n",
    "    \n",
    "    # convert time\n",
    "    time = nawdex_analysis.io.tools.convert_timevec( dset.time.data )\n",
    "    dset['time']  = time\n",
    "    \n",
    "    # get mask\n",
    "    lsm = get_mask(**kwargs)\n",
    "    \n",
    "    dset['mask'] = lsm['lsm']\n",
    "    \n",
    "    return dset"
   ]
  },
  {
   "cell_type": "code",
   "execution_count": 40,
   "metadata": {},
   "outputs": [
    {
     "data": {
      "text/plain": [
       "<xarray.Dataset>\n",
       "Dimensions:        (col: 2050, cols: 2050, ndim: 2, row: 900, rows: 900, time: 23)\n",
       "Coordinates:\n",
       "    lat            (rows, cols) float64 ...\n",
       "    lon            (rows, cols) float64 ...\n",
       "  * time           (time) datetime64[ns] 2013-12-20T02:00:00 ... 2013-12-21\n",
       "Dimensions without coordinates: col, cols, ndim, row, rows\n",
       "Data variables:\n",
       "    bt120          (time, rows, cols) float32 ...\n",
       "    msevi_region   (ndim, ndim) int64 ...\n",
       "    bt134          (time, rows, cols) float32 ...\n",
       "    zen            (rows, cols) float64 ...\n",
       "    nwcsaf_region  (ndim, ndim) int64 ...\n",
       "    bt087          (time, rows, cols) float32 ...\n",
       "    bt108          (time, rows, cols) float32 ...\n",
       "    bt073          (time, rows, cols) float32 ...\n",
       "    bt062          (time, rows, cols) float32 ...\n",
       "    mask           (row, col) bool ...\n",
       "Attributes:\n",
       "    description:  Synthetic Infrared MSG-SEVIRI images from the Prime Service\n",
       "    title:        Synthetic MSG-SEVIRI Brightness Temperatures\n",
       "    institution:  Leibniz Institute for Tropospheric Research\n",
       "    author:       Fabian Senf (senf@tropos.de)"
      ]
     },
     "execution_count": 40,
     "metadata": {},
     "output_type": "execute_result"
    }
   ],
   "source": [
    "dset = open_btfile( fname )\n",
    "dset"
   ]
  },
  {
   "cell_type": "markdown",
   "metadata": {},
   "source": [
    "## Run Calculations"
   ]
  },
  {
   "cell_type": "code",
   "execution_count": 41,
   "metadata": {},
   "outputs": [],
   "source": [
    "def calc_bthists( dset, btbins = None ):\n",
    "    \n",
    "    ntimes = dset.dims['time']\n",
    "    \n",
    "    \n",
    "    bthists = []\n",
    "    for i in range( ntimes ):\n",
    "        bthists +=[ calculate_bthist( dset, i, btbins = btbins ), ]\n",
    "    bthists = xr.merge( bthists )\n",
    "    \n",
    "    return bthists"
   ]
  },
  {
   "cell_type": "code",
   "execution_count": 42,
   "metadata": {},
   "outputs": [
    {
     "data": {
      "text/plain": [
       "<xarray.Dataset>\n",
       "Dimensions:    (bin_edges: 40, bin_mids: 39, region: 1, time: 23)\n",
       "Coordinates:\n",
       "  * time       (time) datetime64[ns] 2013-12-20T02:00:00 ... 2013-12-21\n",
       "  * bin_edges  (bin_edges) float64 270.0 271.0 272.1 273.1 ... 307.9 309.0 310.0\n",
       "  * bin_mids   (bin_mids) float64 270.5 271.5 272.6 273.6 ... 307.4 308.5 309.5\n",
       "  * region     (region) |S4 'full'\n",
       "Data variables:\n",
       "    counts     (region, time, bin_mids) float64 1.513e+04 1.826e+04 ... 0.0 0.0"
      ]
     },
     "execution_count": 42,
     "metadata": {},
     "output_type": "execute_result"
    }
   ],
   "source": [
    "bthists = calc_bthists( dset )\n",
    "bthists = bthists.expand_dims('region')\n",
    "bthists['region'] = ['full', ]\n",
    "bthists"
   ]
  },
  {
   "cell_type": "code",
   "execution_count": 43,
   "metadata": {},
   "outputs": [
    {
     "data": {
      "text/plain": [
       "'/vols/fs1/store/senf/data/icon/stoch_exp_v2020-02-13/bt-hists_synsat-hdcp2_atlantic_stochconv_noconvprec_notundepth.nc'"
      ]
     },
     "execution_count": 43,
     "metadata": {},
     "output_type": "execute_result"
    }
   ],
   "source": [
    "\n",
    "oname = fname.replace('%s/' % version, '%s/bt-hists_' % version)\n",
    "oname\n",
    "#afrac.to_netcdf( oname )\n"
   ]
  },
  {
   "cell_type": "code",
   "execution_count": 44,
   "metadata": {},
   "outputs": [
    {
     "data": {
      "text/plain": [
       "['/vols/fs1/store/senf/data/icon/stoch_exp_v2020-02-13/synsat-hdcp2_atlantic_stochconv_noconvprec_notundepth.nc',\n",
       " '/vols/fs1/store/senf/data/icon/stoch_exp_v2020-02-13/synsat-hdcp2_atlantic_detconv.nc',\n",
       " '/vols/fs1/store/senf/data/icon/stoch_exp_v2020-02-13/synsat-hdcp2_atlantic_stochconv_vervel_-00.nc',\n",
       " '/vols/fs1/store/senf/data/icon/stoch_exp_v2020-02-13/msevi-hdcp2_atlantic-20131220.nc',\n",
       " '/vols/fs1/store/senf/data/icon/stoch_exp_v2020-02-13/synsat-hdcp2_atlantic_noconv.nc']"
      ]
     },
     "execution_count": 44,
     "metadata": {},
     "output_type": "execute_result"
    }
   ],
   "source": [
    "flist"
   ]
  },
  {
   "cell_type": "markdown",
   "metadata": {},
   "source": [
    "## Full Analysis"
   ]
  },
  {
   "cell_type": "code",
   "execution_count": 45,
   "metadata": {},
   "outputs": [],
   "source": [
    "def get_bthists4region( fname, regname, **kwargs ):\n",
    "    \n",
    "    dset = open_btfile( fname, **kwargs )\n",
    "    bthists = calc_bthists( dset, btbins =  np.linspace(200, 310, 100) )\n",
    "    bthists = bthists.expand_dims('region')\n",
    "    bthists['region'] = [regname, ]\n",
    "    \n",
    "    return bthists"
   ]
  },
  {
   "cell_type": "code",
   "execution_count": 46,
   "metadata": {},
   "outputs": [],
   "source": [
    "def run_full_analysis( fname, version = 'v2019-10-18' ):\n",
    "    \n",
    "    # full region\n",
    "    dset_full = get_bthists4region( fname, 'Full', )\n",
    "    dset_N = get_bthists4region( fname, 'Northern_Subtropics', lat_low = 10)\n",
    "    dset_S = get_bthists4region( fname, 'Southern_Subtropics', lat_upp = -1.)\n",
    "    \n",
    "    # combine\n",
    "    dset = xr.merge( [dset_full, dset_N, dset_S] )\n",
    "\n",
    "    # output\n",
    "    oname = fname.replace('%s/' % version, '%s/bt-hists_' % version)\n",
    "\n",
    "    print('... save data to %s' % oname )\n",
    "    dset.to_netcdf( oname )\n",
    "\n",
    "    return dset"
   ]
  },
  {
   "cell_type": "code",
   "execution_count": 47,
   "metadata": {},
   "outputs": [
    {
     "name": "stdout",
     "output_type": "stream",
     "text": [
      "... save data to /vols/fs1/store/senf/data/icon/stoch_exp_v2020-02-13/bt-hists_synsat-hdcp2_atlantic_stochconv_noconvprec_notundepth.nc\n",
      "... save data to /vols/fs1/store/senf/data/icon/stoch_exp_v2020-02-13/bt-hists_synsat-hdcp2_atlantic_detconv.nc\n",
      "... save data to /vols/fs1/store/senf/data/icon/stoch_exp_v2020-02-13/bt-hists_synsat-hdcp2_atlantic_stochconv_vervel_-00.nc\n",
      "... save data to /vols/fs1/store/senf/data/icon/stoch_exp_v2020-02-13/bt-hists_msevi-hdcp2_atlantic-20131220.nc\n",
      "... save data to /vols/fs1/store/senf/data/icon/stoch_exp_v2020-02-13/bt-hists_synsat-hdcp2_atlantic_noconv.nc\n"
     ]
    }
   ],
   "source": [
    "for fname in flist :\n",
    "    run_full_analysis( fname, version = version )"
   ]
  }
 ],
 "metadata": {
  "kernelspec": {
   "display_name": "Python 2",
   "language": "python",
   "name": "python2"
  },
  "language_info": {
   "codemirror_mode": {
    "name": "ipython",
    "version": 2
   },
   "file_extension": ".py",
   "mimetype": "text/x-python",
   "name": "python",
   "nbconvert_exporter": "python",
   "pygments_lexer": "ipython2",
   "version": "2.7.15"
  }
 },
 "nbformat": 4,
 "nbformat_minor": 2
}
