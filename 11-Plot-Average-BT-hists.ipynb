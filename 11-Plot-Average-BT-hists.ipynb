{
 "cells": [
  {
   "cell_type": "markdown",
   "metadata": {},
   "source": [
    "# Plots of Average BT Histograms"
   ]
  },
  {
   "cell_type": "markdown",
   "metadata": {},
   "source": [
    "We use the stacked plotting function developed for North Atlantic study."
   ]
  },
  {
   "cell_type": "code",
   "execution_count": 1,
   "metadata": {},
   "outputs": [],
   "source": [
    "%matplotlib inline\n",
    "\n",
    "import glob, os\n",
    "import numpy as np\n",
    "import pylab as pl\n",
    "import seaborn as sns\n",
    "sns.set_context('talk')\n",
    "import xarray as xr\n",
    "import datetime\n",
    "\n",
    "\n",
    "pl.rcParams['figure.figsize'] = (16.0, 12.0)\n",
    "pl.rcParams['font.size'] = 16.0\n",
    "pl.rcParams['axes.labelpad'] = 12"
   ]
  },
  {
   "cell_type": "code",
   "execution_count": 2,
   "metadata": {},
   "outputs": [],
   "source": [
    "\n",
    "from tropy.standard_config import local_data_path\n"
   ]
  },
  {
   "cell_type": "markdown",
   "metadata": {},
   "source": [
    "## Make a Filelist"
   ]
  },
  {
   "cell_type": "code",
   "execution_count": 3,
   "metadata": {},
   "outputs": [],
   "source": [
    "#version = 'v2019-10-18'\n",
    "version = 'v2020-02-13'\n"
   ]
  },
  {
   "cell_type": "code",
   "execution_count": 4,
   "metadata": {},
   "outputs": [],
   "source": [
    "# new path\n",
    "fdir = '%s/icon/stoch_exp_%s' % ( local_data_path, version )"
   ]
  },
  {
   "cell_type": "code",
   "execution_count": 5,
   "metadata": {},
   "outputs": [],
   "source": [
    "flist = sorted( glob.glob( '%s/bt*-hdcp2_atlantic*nc' % fdir) )"
   ]
  },
  {
   "cell_type": "code",
   "execution_count": 6,
   "metadata": {},
   "outputs": [
    {
     "name": "stdout",
     "output_type": "stream",
     "text": [
      "(0, '/vols/fs1/store/senf/data/icon/stoch_exp_v2020-02-13/bt-hists_msevi-hdcp2_atlantic-20131220.nc')\n",
      "(1, '/vols/fs1/store/senf/data/icon/stoch_exp_v2020-02-13/bt-hists_synsat-hdcp2_atlantic_detconv.nc')\n",
      "(2, '/vols/fs1/store/senf/data/icon/stoch_exp_v2020-02-13/bt-hists_synsat-hdcp2_atlantic_noconv.nc')\n",
      "(3, '/vols/fs1/store/senf/data/icon/stoch_exp_v2020-02-13/bt-hists_synsat-hdcp2_atlantic_stochconv_noconvprec_notundepth.nc')\n",
      "(4, '/vols/fs1/store/senf/data/icon/stoch_exp_v2020-02-13/bt-hists_synsat-hdcp2_atlantic_stochconv_vervel_-00.nc')\n"
     ]
    }
   ],
   "source": [
    "for i, fname in enumerate( flist ):\n",
    "    print(i, fname )"
   ]
  },
  {
   "cell_type": "markdown",
   "metadata": {},
   "source": [
    "## Sort Exp a bit"
   ]
  },
  {
   "cell_type": "code",
   "execution_count": 7,
   "metadata": {},
   "outputs": [],
   "source": [
    "if version == 'v2019-10-18':\n",
    "    ilist = [0, 2, 1, 5, 6 ]\n",
    "elif version == 'v2020-02-13':\n",
    "    ilist = [0, 2, 1, 3, 4]\n",
    "    \n",
    "sorted_fnames = np.array(flist )[ilist]"
   ]
  },
  {
   "cell_type": "code",
   "execution_count": 8,
   "metadata": {},
   "outputs": [],
   "source": [
    "labels = ['SEVIRI', 'NOCONV', 'D-OPER', 'S-DFLT', 'S-CPLN']"
   ]
  },
  {
   "cell_type": "code",
   "execution_count": 9,
   "metadata": {},
   "outputs": [
    {
     "name": "stdout",
     "output_type": "stream",
     "text": [
      "SEVIRI /vols/fs1/store/senf/data/icon/stoch_exp_v2020-02-13/bt-hists_msevi-hdcp2_atlantic-20131220.nc\n",
      "NOCONV /vols/fs1/store/senf/data/icon/stoch_exp_v2020-02-13/bt-hists_synsat-hdcp2_atlantic_noconv.nc\n",
      "D-OPER /vols/fs1/store/senf/data/icon/stoch_exp_v2020-02-13/bt-hists_synsat-hdcp2_atlantic_detconv.nc\n",
      "S-DFLT /vols/fs1/store/senf/data/icon/stoch_exp_v2020-02-13/bt-hists_synsat-hdcp2_atlantic_stochconv_noconvprec_notundepth.nc\n",
      "S-CPLN /vols/fs1/store/senf/data/icon/stoch_exp_v2020-02-13/bt-hists_synsat-hdcp2_atlantic_stochconv_vervel_-00.nc\n"
     ]
    }
   ],
   "source": [
    "labelmap = {}\n",
    "for i, fname in enumerate( sorted_fnames ):\n",
    "    labelmap[fname] = labels[i]\n",
    "    \n",
    "    print( '%s %s' % (labels[i], fname))"
   ]
  },
  {
   "cell_type": "markdown",
   "metadata": {},
   "source": [
    "## Read Data "
   ]
  },
  {
   "cell_type": "code",
   "execution_count": 10,
   "metadata": {},
   "outputs": [],
   "source": [
    "dlist = []\n",
    "\n",
    "for fname in labelmap.keys():\n",
    "    label = labelmap[fname]\n",
    "    d = xr.open_dataset( fname )\n",
    "    \n",
    "    d.expand_dims( 'idname' )\n",
    "    d['idname'] = [label,]\n",
    "    \n",
    "    dlist += [d, ]"
   ]
  },
  {
   "cell_type": "code",
   "execution_count": 11,
   "metadata": {},
   "outputs": [],
   "source": [
    "dset = xr.concat( dlist, dim = 'idname' )"
   ]
  },
  {
   "cell_type": "markdown",
   "metadata": {},
   "source": [
    "## Get Rid of Spinup"
   ]
  },
  {
   "cell_type": "markdown",
   "metadata": {},
   "source": [
    "Let's say we consider the the six hours as spinup."
   ]
  },
  {
   "cell_type": "code",
   "execution_count": 12,
   "metadata": {},
   "outputs": [],
   "source": [
    "time_range = slice( '2013-12-20T06', '2013-12-20')"
   ]
  },
  {
   "cell_type": "code",
   "execution_count": 13,
   "metadata": {},
   "outputs": [
    {
     "data": {
      "text/plain": [
       "<xarray.Dataset>\n",
       "Dimensions:    (bin_edges: 100, bin_mids: 99, idname: 5, region: 3)\n",
       "Coordinates:\n",
       "  * region     (region) |S19 'Full' 'Northern_Subtropics' 'Southern_Subtropics'\n",
       "  * bin_edges  (bin_edges) float64 200.0 201.1 202.2 203.3 ... 307.8 308.9 310.0\n",
       "  * bin_mids   (bin_mids) float64 200.6 201.7 202.8 203.9 ... 307.2 308.3 309.4\n",
       "  * idname     (idname) object 'D-OPER' 'NOCONV' 'SEVIRI' 'S-CPLN' 'S-DFLT'\n",
       "Data variables:\n",
       "    counts     (idname, region, bin_mids) float64 13.72 17.39 22.72 ... 0.0 0.0"
      ]
     },
     "execution_count": 13,
     "metadata": {},
     "output_type": "execute_result"
    }
   ],
   "source": [
    "bthist = dset.sel( time = time_range )\n",
    "bthist.mean('time')"
   ]
  },
  {
   "cell_type": "markdown",
   "metadata": {},
   "source": [
    "## Calculate PDFs"
   ]
  },
  {
   "cell_type": "code",
   "execution_count": 14,
   "metadata": {},
   "outputs": [],
   "source": [
    "dT = bthist.bin_edges.diff('bin_edges')\n",
    "#dT = dT.rename({'bin_edges': 'bin_mids'})\n",
    "\n",
    "c = bthist.counts\n",
    "csum = c.sum('bin_mids')\n",
    "\n"
   ]
  },
  {
   "cell_type": "code",
   "execution_count": 15,
   "metadata": {},
   "outputs": [],
   "source": [
    "bthist['bin_width'] = xr.DataArray( data = dT.data, dims = ('bin_mids'))\n",
    "bthist['pdf'] = bthist['counts'] / (bthist['bin_width'] * csum)"
   ]
  },
  {
   "cell_type": "code",
   "execution_count": 16,
   "metadata": {},
   "outputs": [
    {
     "data": {
      "text/plain": [
       "<xarray.Dataset>\n",
       "Dimensions:    (bin_edges: 100, bin_mids: 99, idname: 5, region: 3, time: 18)\n",
       "Coordinates:\n",
       "  * bin_mids   (bin_mids) float64 200.6 201.7 202.8 203.9 ... 307.2 308.3 309.4\n",
       "  * time       (time) datetime64[ns] 2013-12-20T06:00:00 ... 2013-12-20T23:00:00\n",
       "  * region     (region) |S19 'Full' 'Northern_Subtropics' 'Southern_Subtropics'\n",
       "  * bin_edges  (bin_edges) float64 200.0 201.1 202.2 203.3 ... 307.8 308.9 310.0\n",
       "  * idname     (idname) object 'D-OPER' 'NOCONV' 'SEVIRI' 'S-CPLN' 'S-DFLT'\n",
       "Data variables:\n",
       "    counts     (idname, region, time, bin_mids) float64 10.0 10.0 ... 0.0 0.0\n",
       "    bin_width  (bin_mids) float64 1.111 1.111 1.111 1.111 ... 1.111 1.111 1.111\n",
       "    pdf        (idname, region, time, bin_mids) float64 6.882e-06 ... 0.0"
      ]
     },
     "execution_count": 16,
     "metadata": {},
     "output_type": "execute_result"
    }
   ],
   "source": [
    "bthist"
   ]
  },
  {
   "cell_type": "code",
   "execution_count": 17,
   "metadata": {},
   "outputs": [
    {
     "data": {
      "text/plain": [
       "<xarray.DataArray (idname: 5, region: 3, time: 18)>\n",
       "array([[[1., 1., ..., 1., 1.],\n",
       "        [1., 1., ..., 1., 1.],\n",
       "        [1., 1., ..., 1., 1.]],\n",
       "\n",
       "       [[1., 1., ..., 1., 1.],\n",
       "        [1., 1., ..., 1., 1.],\n",
       "        [1., 1., ..., 1., 1.]],\n",
       "\n",
       "       ...,\n",
       "\n",
       "       [[1., 1., ..., 1., 1.],\n",
       "        [1., 1., ..., 1., 1.],\n",
       "        [1., 1., ..., 1., 1.]],\n",
       "\n",
       "       [[1., 1., ..., 1., 1.],\n",
       "        [1., 1., ..., 1., 1.],\n",
       "        [1., 1., ..., 1., 1.]]])\n",
       "Coordinates:\n",
       "  * time     (time) datetime64[ns] 2013-12-20T06:00:00 ... 2013-12-20T23:00:00\n",
       "  * region   (region) |S19 'Full' 'Northern_Subtropics' 'Southern_Subtropics'\n",
       "  * idname   (idname) object 'D-OPER' 'NOCONV' 'SEVIRI' 'S-CPLN' 'S-DFLT'"
      ]
     },
     "execution_count": 17,
     "metadata": {},
     "output_type": "execute_result"
    }
   ],
   "source": [
    "# proof\n",
    "( bthist['pdf'] * bthist['bin_width']).sum('bin_mids')"
   ]
  },
  {
   "cell_type": "markdown",
   "metadata": {},
   "source": [
    "## Plotting"
   ]
  },
  {
   "cell_type": "markdown",
   "metadata": {},
   "source": [
    "### Color Scheme"
   ]
  },
  {
   "cell_type": "code",
   "execution_count": 18,
   "metadata": {},
   "outputs": [],
   "source": [
    "def get_exp_kws( expname, **kwargs ):\n",
    "    \n",
    "    ptype = kwargs.get('ptype', 'points')\n",
    "    \n",
    "    kws = {}\n",
    "    labels = ('NOCONV','D-OPER','S-DFLT','S-CPLN')\n",
    "    cols = ('#0000FF', '#008000',  '#FF0000', '#FFA500',)\n",
    "    #cols = [(0.0, 0.0, 1.0), (0.0, 0.5019607843137255, 0.0), \n",
    "    #        (1.0, 0.6470588235294118, 0.0), (1.0, 0.0, 0.0)]\n",
    "    \n",
    "    for i, lab in enumerate( labels ):\n",
    "        if expname == lab:\n",
    "            kws['color'] = cols[i]\n",
    "\n",
    "    if expname == 'SEVIRI':\n",
    "        kws['color'] = 'black'\n",
    "    \n",
    "    if ptype == 'points' and expname == 'SEVIRI':\n",
    "        kws['marker'] = 'D'\n",
    "        kws['zorder'] = 10\n",
    "        kws['markersize'] = 10\n",
    "    elif ptype == 'points':\n",
    "        kws['marker'] = 'o'\n",
    "        kws['zorder'] = 8\n",
    "        kws['markersize'] = 8\n",
    "            \n",
    "    elif ptype == 'lines':\n",
    "        kws['lw'] = 3\n",
    "\n",
    "    return kws\n",
    "\n"
   ]
  },
  {
   "cell_type": "markdown",
   "metadata": {},
   "source": [
    "### Legend"
   ]
  },
  {
   "cell_type": "code",
   "execution_count": 24,
   "metadata": {},
   "outputs": [],
   "source": [
    "def plegend(bbox = (1.5, 0.5)):\n",
    "    handles, labels = pl.gca().get_legend_handles_labels()\n",
    "\n",
    "    # put msevi on top\n",
    "    order = range(len(labels))\n",
    "    mindex = labels.index( 'SEVIRI')\n",
    "    order.remove(mindex)\n",
    "    order = [mindex,] + order\n",
    "\n",
    "    pl.legend([handles[idx] for idx in order],[labels[idx] for idx in order], \n",
    "          loc='center right', bbox_to_anchor = bbox, fontsize = 'large', frameon = False )"
   ]
  },
  {
   "cell_type": "code",
   "execution_count": 25,
   "metadata": {},
   "outputs": [
    {
     "data": {
      "text/plain": [
       "<xarray.DataArray 'region' (region: 3)>\n",
       "array(['Full', 'Northern_Subtropics', 'Southern_Subtropics'], dtype='|S19')\n",
       "Coordinates:\n",
       "  * region   (region) |S19 'Full' 'Northern_Subtropics' 'Southern_Subtropics'"
      ]
     },
     "execution_count": 25,
     "metadata": {},
     "output_type": "execute_result"
    }
   ],
   "source": [
    "bthist.region"
   ]
  },
  {
   "cell_type": "markdown",
   "metadata": {},
   "source": [
    "### Full Histograms - Cold Clouds"
   ]
  },
  {
   "cell_type": "code",
   "execution_count": 26,
   "metadata": {},
   "outputs": [
    {
     "data": {
      "image/png": "[encoded data removed]",
      "text/plain": [
       "<Figure size 576x252 with 1 Axes>"
      ]
     },
     "metadata": {
      "needs_background": "light"
     },
     "output_type": "display_data"
    }
   ],
   "source": [
    "pl.figure( figsize = (8,3.5))\n",
    "\n",
    "bkw = dict( bin_mids = slice(200,230))\n",
    "    \n",
    "\n",
    "for lab in labels:\n",
    "    kws = get_exp_kws(lab, ptype = 'lines')\n",
    "    sel = dict( region = 'Full', idname = lab,  )\n",
    "    \n",
    "    pl.step( bthist.bin_mids.sel( **bkw), 1e4 * bthist.pdf.mean( 'time' ).sel(**bkw).sel(**sel),\n",
    "             label = lab, where = 'mid',**kws)\n",
    "    \n",
    "pl.xlabel('BT10.8 (K)')\n",
    "pl.ylabel('PDF ($10^{-4}$ K${}^{-1}$)')\n",
    "plegend()\n",
    "sns.despine()\n",
    "pl.subplots_adjust( right = 0.7, bottom = 0.3, left = 0.2)\n",
    "\n",
    "pl.savefig('../pics/daily-average-bt108-hist_range200-230K_%s.jpg' % version, dpi = 300)\n"
   ]
  },
  {
   "cell_type": "code",
   "execution_count": 27,
   "metadata": {},
   "outputs": [
    {
     "data": {
      "image/png": "[encoded data removed]",
      "text/plain": [
       "<Figure size 576x252 with 1 Axes>"
      ]
     },
     "metadata": {
      "needs_background": "light"
     },
     "output_type": "display_data"
    }
   ],
   "source": [
    "pl.figure( figsize = (8,3.5))\n",
    "\n",
    "bkw = dict( bin_mids = slice(270,300))\n",
    "    \n",
    "\n",
    "for lab in labels:\n",
    "    kws = get_exp_kws(lab, ptype = 'lines')\n",
    "    sel = dict( region = 'Full', idname = lab,  )\n",
    "    \n",
    "    pl.step( bthist.bin_mids.sel( **bkw), bthist.pdf.mean( 'time' ).sel(**bkw).sel(**sel),\n",
    "             label = lab, where = 'mid',**kws)\n",
    "    \n",
    "pl.xlabel('BT10.8 (K)')\n",
    "pl.ylabel('PDF (K${}^{-1}$)')\n",
    "plegend()\n",
    "sns.despine()\n",
    "pl.subplots_adjust( right = 0.7, bottom = 0.3, left = 0.2)\n",
    "\n",
    "pl.savefig('../pics/daily-average-bt108-hist_range270-300K_%s.jpg' % version, dpi = 300)\n"
   ]
  },
  {
   "cell_type": "code",
   "execution_count": null,
   "metadata": {},
   "outputs": [],
   "source": []
  }
 ],
 "metadata": {
  "kernelspec": {
   "display_name": "Python 2",
   "language": "python",
   "name": "python2"
  },
  "language_info": {
   "codemirror_mode": {
    "name": "ipython",
    "version": 2
   },
   "file_extension": ".py",
   "mimetype": "text/x-python",
   "name": "python",
   "nbconvert_exporter": "python",
   "pygments_lexer": "ipython2",
   "version": "2.7.15"
  }
 },
 "nbformat": 4,
 "nbformat_minor": 2
}
