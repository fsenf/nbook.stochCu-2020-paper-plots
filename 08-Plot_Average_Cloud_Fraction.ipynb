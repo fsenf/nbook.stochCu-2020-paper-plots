{
 "cells": [
  {
   "cell_type": "markdown",
   "metadata": {},
   "source": [
    "# Plots of Average Cloud Fraction"
   ]
  },
  {
   "cell_type": "markdown",
   "metadata": {},
   "source": [
    "We use the stacked plotting function developed for North Atlantic study."
   ]
  },
  {
   "cell_type": "code",
   "execution_count": 31,
   "metadata": {},
   "outputs": [],
   "source": [
    "%matplotlib inline\n",
    "\n",
    "import glob, os\n",
    "import numpy as np\n",
    "import pylab as pl\n",
    "import seaborn as sns\n",
    "sns.set_context('talk')\n",
    "import xarray as xr\n",
    "import datetime\n",
    "\n",
    "\n",
    "#pl.rcParams['figure.figsize'] = (16.0, 12.0)\n",
    "#pl.rcParams['font.size'] = 16.0\n",
    "#pl.rcParams['axes.labelpad'] = 12"
   ]
  },
  {
   "cell_type": "code",
   "execution_count": 32,
   "metadata": {},
   "outputs": [],
   "source": [
    "\n",
    "from tropy.standard_config import local_data_path\n"
   ]
  },
  {
   "cell_type": "markdown",
   "metadata": {},
   "source": [
    "## Make a Filelist"
   ]
  },
  {
   "cell_type": "code",
   "execution_count": 33,
   "metadata": {},
   "outputs": [],
   "source": [
    "# version = 'v2019-10-18'\n",
    "# version = 'v2020-02-13'\n",
    "version = 'v2020-06-08'\n"
   ]
  },
  {
   "cell_type": "code",
   "execution_count": 34,
   "metadata": {},
   "outputs": [],
   "source": [
    "# old path\n",
    "fdir = '%s/icon/hdcp2_atlantic_stochconv_main_experiments' % local_data_path"
   ]
  },
  {
   "cell_type": "code",
   "execution_count": 35,
   "metadata": {},
   "outputs": [],
   "source": [
    "# new path\n",
    "fdir = '%s/icon/stoch_exp_%s' % ( local_data_path, version )"
   ]
  },
  {
   "cell_type": "code",
   "execution_count": 36,
   "metadata": {},
   "outputs": [],
   "source": [
    "flist = sorted( glob.glob( '%s/afrac*-hdcp2_atlantic*nc' % fdir) )"
   ]
  },
  {
   "cell_type": "code",
   "execution_count": 37,
   "metadata": {},
   "outputs": [
    {
     "name": "stdout",
     "output_type": "stream",
     "text": [
      "(0, '/vols/fs1/store/senf/data/icon/stoch_exp_v2020-06-08/afrac-stats_msevi-hdcp2_atlantic-20131220.nc')\n",
      "(1, '/vols/fs1/store/senf/data/icon/stoch_exp_v2020-06-08/afrac-stats_synsat-hdcp2_atlantic_detconv.nc')\n",
      "(2, '/vols/fs1/store/senf/data/icon/stoch_exp_v2020-06-08/afrac-stats_synsat-hdcp2_atlantic_detconv_nolim_notundepth.nc')\n",
      "(3, '/vols/fs1/store/senf/data/icon/stoch_exp_v2020-06-08/afrac-stats_synsat-hdcp2_atlantic_noconv.nc')\n",
      "(4, '/vols/fs1/store/senf/data/icon/stoch_exp_v2020-06-08/afrac-stats_synsat-hdcp2_atlantic_stochconv_noconvprec_notundepth.nc')\n",
      "(5, '/vols/fs1/store/senf/data/icon/stoch_exp_v2020-06-08/afrac-stats_synsat-hdcp2_atlantic_stochconv_vervel_-00.nc')\n"
     ]
    }
   ],
   "source": [
    "for i, fname in enumerate( flist ):\n",
    "    print(i, fname )"
   ]
  },
  {
   "cell_type": "markdown",
   "metadata": {},
   "source": [
    "## Sort Exp a bit"
   ]
  },
  {
   "cell_type": "code",
   "execution_count": 38,
   "metadata": {},
   "outputs": [],
   "source": [
    "# ilist = [0, 2, 1, 3, 4 ]\n",
    "# ilist = [0, 3, 2, 4 ]\n",
    "ilist = [0, 3, 1, 4 ]\n",
    "\n",
    "sorted_fnames = np.array(flist )[ilist]"
   ]
  },
  {
   "cell_type": "code",
   "execution_count": 39,
   "metadata": {},
   "outputs": [],
   "source": [
    "# labels = ['SEVIRI', 'NOCONV', 'D-OPER', 'S-DFLT', 'S-CPLN']\n",
    "# labels = ['SEVIRI', 'NOCONV', 'D-NOMFL', 'S-NOMFL']\n",
    "labels = ['SEVIRI', 'NOCONV', 'D-OPER', 'S-NOMFL']\n"
   ]
  },
  {
   "cell_type": "code",
   "execution_count": 40,
   "metadata": {},
   "outputs": [
    {
     "name": "stdout",
     "output_type": "stream",
     "text": [
      "SEVIRI /vols/fs1/store/senf/data/icon/stoch_exp_v2020-06-08/afrac-stats_msevi-hdcp2_atlantic-20131220.nc\n",
      "NOCONV /vols/fs1/store/senf/data/icon/stoch_exp_v2020-06-08/afrac-stats_synsat-hdcp2_atlantic_noconv.nc\n",
      "D-OPER /vols/fs1/store/senf/data/icon/stoch_exp_v2020-06-08/afrac-stats_synsat-hdcp2_atlantic_detconv.nc\n",
      "S-NOMFL /vols/fs1/store/senf/data/icon/stoch_exp_v2020-06-08/afrac-stats_synsat-hdcp2_atlantic_stochconv_noconvprec_notundepth.nc\n"
     ]
    }
   ],
   "source": [
    "labelmap = {}\n",
    "for i, fname in enumerate( sorted_fnames ):\n",
    "    labelmap[fname] = labels[i]\n",
    "    \n",
    "    print( '%s %s' % (labels[i], fname))"
   ]
  },
  {
   "cell_type": "markdown",
   "metadata": {},
   "source": [
    "## Read Data "
   ]
  },
  {
   "cell_type": "code",
   "execution_count": 41,
   "metadata": {},
   "outputs": [],
   "source": [
    "dlist = []\n",
    "\n",
    "for fname in labelmap.keys():\n",
    "    label = labelmap[fname]\n",
    "    d = xr.open_dataset( fname )\n",
    "    \n",
    "    d.expand_dims( 'idname' )\n",
    "    d['idname'] = [label,]\n",
    "    \n",
    "    dlist += [d, ]"
   ]
  },
  {
   "cell_type": "code",
   "execution_count": 42,
   "metadata": {},
   "outputs": [],
   "source": [
    "dset = xr.concat( dlist, dim = 'idname' )"
   ]
  },
  {
   "cell_type": "markdown",
   "metadata": {},
   "source": [
    "## Get Rid of Spinup"
   ]
  },
  {
   "cell_type": "markdown",
   "metadata": {},
   "source": [
    "Let's say we consider the first six hours as spinup."
   ]
  },
  {
   "cell_type": "code",
   "execution_count": 43,
   "metadata": {},
   "outputs": [],
   "source": [
    "time_range = slice( '2013-12-20T06', '2013-12-20')"
   ]
  },
  {
   "cell_type": "code",
   "execution_count": 44,
   "metadata": {},
   "outputs": [],
   "source": [
    "afrac = dset.sel( time = time_range )"
   ]
  },
  {
   "cell_type": "markdown",
   "metadata": {},
   "source": [
    "## Preparing Variables"
   ]
  },
  {
   "cell_type": "markdown",
   "metadata": {},
   "source": [
    "### Combine Fractional and Very Low"
   ]
  },
  {
   "cell_type": "code",
   "execution_count": 45,
   "metadata": {},
   "outputs": [],
   "source": [
    "add_dset = afrac.sel(ct = 'very low') + afrac.sel(ct = 'fractional')\n",
    "add_dset = add_dset.expand_dims('ct')\n",
    "add_dset['ct'] = ['very low / fractional']\n",
    "\n",
    "afrac = xr.concat( [afrac, add_dset], dim = 'ct' )"
   ]
  },
  {
   "cell_type": "markdown",
   "metadata": {},
   "source": [
    "### Rename CT labels\n"
   ]
  },
  {
   "cell_type": "code",
   "execution_count": 46,
   "metadata": {},
   "outputs": [
    {
     "name": "stdout",
     "output_type": "stream",
     "text": [
      "['clear_ocean' 'very low' 'low' 'middle' 'high opaque' 'very high opaque'\n",
      " 'semi. thin' 'semi. meanly thick' 'semi. thick' 'semi. above'\n",
      " 'fractional' 'very low / fractional']\n"
     ]
    }
   ],
   "source": [
    "ctnames = afrac.ct.data\n",
    "print(ctnames)"
   ]
  },
  {
   "cell_type": "code",
   "execution_count": 47,
   "metadata": {},
   "outputs": [
    {
     "data": {
      "text/plain": [
       "array([False, False, False, False, False, False, False,  True, False,\n",
       "       False, False, False])"
      ]
     },
     "execution_count": 47,
     "metadata": {},
     "output_type": "execute_result"
    }
   ],
   "source": [
    "ctnames == 'semi. meanly thick'"
   ]
  },
  {
   "cell_type": "code",
   "execution_count": 48,
   "metadata": {},
   "outputs": [],
   "source": [
    "name_map = {'semi. meanly thick' : 'semi. moderately thick', 'middle' : 'mid-level'}\n",
    "\n",
    "for old_name in name_map.keys():\n",
    "    new_name = name_map[old_name]\n",
    "    \n",
    "    m = ctnames == old_name\n",
    "    ctnames[m] = new_name"
   ]
  },
  {
   "cell_type": "markdown",
   "metadata": {},
   "source": [
    "### Total Cloud Fraction "
   ]
  },
  {
   "cell_type": "code",
   "execution_count": 49,
   "metadata": {},
   "outputs": [],
   "source": [
    "cc = 100 - afrac.sel(ct = 'clear_ocean')['afrac']"
   ]
  },
  {
   "cell_type": "markdown",
   "metadata": {},
   "source": [
    "### Average CT Coverages "
   ]
  },
  {
   "cell_type": "code",
   "execution_count": 50,
   "metadata": {},
   "outputs": [],
   "source": [
    "catlist = list( afrac.ct.data )\n",
    "\n",
    "remove_list = ['clear_ocean', 'semi. above', 'very low', 'fractional']\n",
    "\n",
    "for rm_cat in remove_list:\n",
    "    catlist.remove(rm_cat)\n",
    "\n",
    "\n",
    "afrac_cleaned = afrac.sel(ct = catlist )\n",
    "\n",
    "afrac_ave = afrac_cleaned.mean( 'time' )\n",
    "afrac_sem = 2 * afrac_cleaned.std( 'time' ) / np.sqrt( afrac_cleaned.count( 'time'))"
   ]
  },
  {
   "cell_type": "markdown",
   "metadata": {},
   "source": [
    "## Patches "
   ]
  },
  {
   "cell_type": "markdown",
   "metadata": {},
   "source": [
    "We like to use the plotting functions developed for `nawdex_analysis`, but they are highly adjusted to the North Atlantic dataset. We use patching to overwrite some functions!"
   ]
  },
  {
   "cell_type": "code",
   "execution_count": 51,
   "metadata": {},
   "outputs": [
    {
     "data": {
      "text/plain": [
       "<module 'nawdex_analysis.plot.stacked_analysis_plots' from '/vols/fs1/store/senf/.conda/python27mod/lib/python2.7/site-packages/nawdex_analysis/plot/stacked_analysis_plots.pyc'>"
      ]
     },
     "execution_count": 51,
     "metadata": {},
     "output_type": "execute_result"
    }
   ],
   "source": [
    "import nawdex_analysis.plot.stacked_analysis_plots\n",
    "reload( nawdex_analysis.plot.stacked_analysis_plots )"
   ]
  },
  {
   "cell_type": "code",
   "execution_count": 52,
   "metadata": {},
   "outputs": [
    {
     "data": {
      "text/plain": [
       "['__builtins__',\n",
       " '__doc__',\n",
       " '__file__',\n",
       " '__name__',\n",
       " '__package__',\n",
       " 'abc',\n",
       " 'collector',\n",
       " 'get_exp_kws',\n",
       " 'get_exp_kws_bars',\n",
       " 'get_plotting_order',\n",
       " 'hor_barplot_exp_plot',\n",
       " 'hor_flamingo_plots',\n",
       " 'np',\n",
       " 'os',\n",
       " 'pl',\n",
       " 'plot_net_cre_contrib4set',\n",
       " 'plot_scre_lcre4set',\n",
       " 'round2day',\n",
       " 'sns',\n",
       " 'stacker4flamingo',\n",
       " 'string',\n",
       " 'sys',\n",
       " 'vert_stacked_exp_plot',\n",
       " 'xr']"
      ]
     },
     "execution_count": 52,
     "metadata": {},
     "output_type": "execute_result"
    }
   ],
   "source": [
    "dir(nawdex_analysis.plot.stacked_analysis_plots)"
   ]
  },
  {
   "cell_type": "code",
   "execution_count": 53,
   "metadata": {},
   "outputs": [],
   "source": [
    "def get_plotting_order( vlist ):\n",
    "    \n",
    "    nlen = len( vlist )\n",
    "    \n",
    "    return np.array([2,1,0,3])"
   ]
  },
  {
   "cell_type": "code",
   "execution_count": 56,
   "metadata": {},
   "outputs": [],
   "source": [
    "def get_exp_kws( expname, **kwargs ):\n",
    "    \n",
    "    ptype = kwargs.get('ptype', 'points')\n",
    "    \n",
    "    kws = {}\n",
    "    # labels = ('NOCONV','D-OPER','S-DFLT','S-CPLN')\n",
    "    # cols = ('#0000FF', '#008000',  '#FF0000', '#FFA500',)\n",
    "    \n",
    "    labels = ('NOCONV', 'D-OPER', 'S-NOMFL' )\n",
    "    cols = ('#0000FF', '#008000',  '#FF0000', )#'#FFA500',)\n",
    "    \n",
    "    #cols = [(0.0, 0.0, 1.0), (0.0, 0.5019607843137255, 0.0), \n",
    "    #        (1.0, 0.6470588235294118, 0.0), (1.0, 0.0, 0.0)]\n",
    "    \n",
    "    for i, lab in enumerate( labels ):\n",
    "        if expname == lab:\n",
    "            kws['color'] = cols[i]\n",
    "\n",
    "    if expname == 'SEVIRI':\n",
    "        kws['color'] = 'black'\n",
    "    \n",
    "    if ptype == 'points' and expname == 'SEVIRI':\n",
    "        kws['marker'] = 'D'\n",
    "        kws['zorder'] = 10\n",
    "        kws['markersize'] = 10\n",
    "    elif ptype == 'points':\n",
    "        kws['marker'] = 'o'\n",
    "        kws['zorder'] = 8\n",
    "        kws['markersize'] = 8\n",
    "            \n",
    "    elif ptype == 'lines':\n",
    "        kws['lw'] = 3\n",
    "\n",
    "    return kws\n"
   ]
  },
  {
   "cell_type": "code",
   "execution_count": 57,
   "metadata": {},
   "outputs": [],
   "source": [
    "# here we do the patching !\n",
    "\n",
    "nawdex_analysis.plot.stacked_analysis_plots.get_exp_kws = get_exp_kws\n",
    "nawdex_analysis.plot.stacked_analysis_plots.get_plotting_order = get_plotting_order\n"
   ]
  },
  {
   "cell_type": "markdown",
   "metadata": {},
   "source": [
    "## Plotting "
   ]
  },
  {
   "cell_type": "code",
   "execution_count": 74,
   "metadata": {},
   "outputs": [],
   "source": [
    "def plegend(bbox = (1.5, 0.5)):\n",
    "    handles, labels = pl.gca().get_legend_handles_labels()\n",
    "\n",
    "    # put msevi on top\n",
    "    order = range(len(labels))\n",
    "    mindex = labels.index( 'SEVIRI')\n",
    "    order.remove(mindex)\n",
    "    order = [mindex,] + order\n",
    "\n",
    "    pl.legend([handles[idx] for idx in order],[labels[idx] for idx in order], \n",
    "          loc='center right', bbox_to_anchor = bbox,  frameon = False )"
   ]
  },
  {
   "cell_type": "markdown",
   "metadata": {},
   "source": [
    "### Vertical Stacks "
   ]
  },
  {
   "cell_type": "code",
   "execution_count": 75,
   "metadata": {},
   "outputs": [
    {
     "name": "stdout",
     "output_type": "stream",
     "text": [
      "['low' 'mid-level' 'high opaque' 'very high opaque' 'semi. thin'\n",
      " 'semi. moderately thick' 'semi. thick' 'very low / fractional']\n"
     ]
    }
   ],
   "source": [
    "print( afrac_ave.ct.data )\n",
    "ctlist = ['very low / fractional', 'low', 'mid-level', 'high opaque', 'very high opaque', 'semi. thin',\n",
    "       'semi. moderately thick', 'semi. thick', ]"
   ]
  },
  {
   "cell_type": "code",
   "execution_count": 83,
   "metadata": {
    "scrolled": true
   },
   "outputs": [
    {
     "data": {
      "image/png": "[encoded data removed]",
      "text/plain": [
       "<Figure size 504x504 with 1 Axes>"
      ]
     },
     "metadata": {
      "needs_background": "light"
     },
     "output_type": "display_data"
    }
   ],
   "source": [
    "fig,ax  = pl.subplots( ncols = 1, figsize = (7, 7), )\n",
    "\n",
    "pl.sca(ax)\n",
    "nawdex_analysis.plot.stacked_analysis_plots.vert_stacked_exp_plot(afrac_ave, 'afrac',\n",
    "                                                                  var_err = afrac_sem, \n",
    "                                                                  catlist = ctlist,  \n",
    "                                                                  offset0 = 0.3,\n",
    "                                                                  doffset = -0.23,\n",
    "                                                                  obsref_name = 'SEVIRI')\n",
    "pl.xlabel( 'cloud cover (%)')\n",
    "pl.title('Average Cloud Fractions', pad = 10)\n",
    "plegend(bbox = (1.5, 0.5))\n",
    "\n",
    "sns.despine(ax = ax)\n",
    "pl.subplots_adjust( left = 0.55, right = 0.85)\n",
    "pl.savefig('../pics/ave-cc-comparison_%s.jpg' % version, dpi = 300)\n"
   ]
  },
  {
   "cell_type": "markdown",
   "metadata": {},
   "source": [
    "## CC time series"
   ]
  },
  {
   "cell_type": "code",
   "execution_count": 79,
   "metadata": {},
   "outputs": [],
   "source": [
    "import matplotlib.dates as mdates\n",
    "myFmt = mdates.DateFormatter('%H')    "
   ]
  },
  {
   "cell_type": "code",
   "execution_count": 80,
   "metadata": {},
   "outputs": [
    {
     "data": {
      "image/png": "[encoded data removed]",
      "text/plain": [
       "<Figure size 576x324 with 1 Axes>"
      ]
     },
     "metadata": {
      "needs_background": "light"
     },
     "output_type": "display_data"
    }
   ],
   "source": [
    "pl.figure( figsize = (8,4.5))\n",
    "\n",
    "for lab in labels:\n",
    "    kws = get_exp_kws(lab, ptype = 'lines')\n",
    "    pl.plot(cc.time, cc.sel(idname = lab), label = lab, **kws)\n",
    "    \n",
    "pl.xlabel('time (hours since 2013-12-20 00z)')\n",
    "pl.ylabel('Cloud Cover (%)')\n",
    "plegend()\n",
    "sns.despine()\n",
    "pl.subplots_adjust( right = 0.7, bottom = 0.3)\n",
    "pl.gca().xaxis.set_major_formatter(myFmt)\n",
    "pl.savefig('../pics/cc-tseries-comparison_%s.jpg' % version, dpi = 300)\n"
   ]
  },
  {
   "cell_type": "code",
   "execution_count": null,
   "metadata": {},
   "outputs": [],
   "source": []
  }
 ],
 "metadata": {
  "kernelspec": {
   "display_name": "Python 2",
   "language": "python",
   "name": "python2"
  },
  "language_info": {
   "codemirror_mode": {
    "name": "ipython",
    "version": 2
   },
   "file_extension": ".py",
   "mimetype": "text/x-python",
   "name": "python",
   "nbconvert_exporter": "python",
   "pygments_lexer": "ipython2",
   "version": "2.7.15"
  }
 },
 "nbformat": 4,
 "nbformat_minor": 2
}
